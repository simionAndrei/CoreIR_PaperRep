{
 "cells": [
  {
   "cell_type": "code",
   "execution_count": 1,
   "metadata": {},
   "outputs": [],
   "source": [
    "import json\n",
    "import itertools\n",
    "import numpy as np\n",
    "from logger import Logger\n",
    "import random\n",
    "from collections import Counter"
   ]
  },
  {
   "cell_type": "code",
   "execution_count": 2,
   "metadata": {},
   "outputs": [
    {
     "name": "stdout",
     "output_type": "stream",
     "text": [
      "2019.02.28-10:00:51 Initialize the logger\n",
      "2019.02.28-10:00:51 Create logs folder logs\n",
      "2019.02.28-10:00:51 Create log file logs\\2019-02-28_10_00_51_log0.html\n",
      "2019.02.28-10:00:51 Create models folder models\n",
      "2019.02.28-10:00:51 Create output folder output\n",
      "2019.02.28-10:00:51 Create data folder data\n",
      "[2019.02.28-10:00:51] Number of dialogs 2199\n",
      "[2019.02.28-10:00:51] Number of utterances 10020\n",
      "[2019.02.28-10:00:51] Randomly selected final utterance {'id': 36317, 'utterance_pos': 8, 'actor_type': 'Agent', 'user_id': 'Bailey', 'utterance': \"You're quite welcome.\", 'vote': '0', 'utterance_time': '2017-04-04T03:12:31', 'affiliation': 'Community Moderator | Article Author', 'is_answer': 0, 'tags': 'GG'}\n"
     ]
    }
   ],
   "source": [
    "logger = Logger(show = True, html_output = True)\n",
    "with open(logger.get_data_file('MSDialog-Intent.json')) as fp:\n",
    "    msdialog_dict = json.load(fp)\n",
    "\n",
    "logger.log(\"Number of dialogs {}\".format(np.unique(list(msdialog_dict.keys())).shape[0]))\n",
    "\n",
    "num_utterances = sum([len(item['utterances']) for item in msdialog_dict.values()])\n",
    "logger.log(\"Number of utterances {}\".format(num_utterances))\n",
    "\n",
    "logger.log(\"Randomly selected final utterance {}\".format(\n",
    "    msdialog_dict[np.random.choice(list(msdialog_dict.keys()))]['utterances'][-1]))"
   ]
  },
  {
   "cell_type": "code",
   "execution_count": 3,
   "metadata": {},
   "outputs": [
    {
     "name": "stdout",
     "output_type": "stream",
     "text": [
      "[2019.02.28-10:00:51] Initial number of unique tags 345\n"
     ]
    }
   ],
   "source": [
    "initial_tags = []\n",
    "for item in msdialog_dict.values():\n",
    "    crt_tags = [' '.join(utterance['tags'].split()) for utterance in item['utterances']]\n",
    "    initial_tags += crt_tags\n",
    "\n",
    "logger.log(\"Initial number of unique tags {}\".format(len(set(initial_tags))))"
   ]
  },
  {
   "cell_type": "code",
   "execution_count": 4,
   "metadata": {},
   "outputs": [
    {
     "name": "stdout",
     "output_type": "stream",
     "text": [
      "[2019.02.28-10:00:51] Data contains combination of ignored labels: e.g ['GG O']\n",
      "[2019.02.28-10:00:51] Number of this combinations is 54\n",
      "[2019.02.28-10:00:51] Number of unique tags after first preprocess step 179\n"
     ]
    }
   ],
   "source": [
    "ignored_labels = ['GG', 'JK', 'O']\n",
    "ignored_combinations  = [item[0] + ' ' + item[1] for item in itertools.combinations(ignored_labels, 2)]\n",
    "ignored_combinations += [item[1] + ' ' + item[0] for item in itertools.combinations(ignored_labels, 2)]\n",
    "\n",
    "if set(initial_tags) & set(ignored_combinations):\n",
    "    logger.log(\"Data contains combination of ignored labels: e.g {}\".format(\n",
    "                random.sample(set(initial_tags) & set(ignored_combinations), 1)))\n",
    "    num_occurences_ignored_combinations = len([tag for tag in initial_tags if tag in ignored_combinations])\n",
    "    logger.log(\"Number of this combinations is {}\".format(num_occurences_ignored_combinations))\n",
    "\n",
    "for item_key in msdialog_dict.keys():\n",
    "    dialog = msdialog_dict[item_key]['utterances']\n",
    "    for i, qa in enumerate(dialog):\n",
    "        new_tag = ' '.join(qa['tags'].split())\n",
    "        if any(label in new_tag for label in ignored_labels) and ' ' in new_tag and new_tag not in ignored_combinations:\n",
    "            for label in ignored_labels:\n",
    "                new_tag = new_tag.replace(label, \"\")\n",
    "                \n",
    "        msdialog_dict[item_key]['utterances'][i]['tags'] = ' '.join(new_tag.split())\n",
    "\n",
    "all_tags = [utterance['tags'] for item in msdialog_dict.values() for utterance in item['utterances']]\n",
    "logger.log(\"Number of unique tags after first preprocess step {}\".format(len(set(all_tags))))"
   ]
  },
  {
   "cell_type": "code",
   "execution_count": 5,
   "metadata": {},
   "outputs": [
    {
     "data": {
      "text/plain": [
       "179"
      ]
     },
     "execution_count": 5,
     "metadata": {},
     "output_type": "execute_result"
    }
   ],
   "source": [
    "occurences = dict(Counter(all_tags)).items()\n",
    "occurences = sorted(occurences, key=lambda tup: tup[1], reverse = True)    \n",
    "\n",
    "len(occurences)"
   ]
  },
  {
   "cell_type": "code",
   "execution_count": 7,
   "metadata": {},
   "outputs": [
    {
     "data": {
      "image/png": "[encoded data removed]",
      "text/plain": [
       "<Figure size 432x432 with 1 Axes>"
      ]
     },
     "metadata": {
      "needs_background": "light"
     },
     "output_type": "display_data"
    }
   ],
   "source": [
    "import matplotlib.pyplot as plt\n",
    "import seaborn as sns\n",
    "import pandas as pd\n",
    "\n",
    "fig = plt.figure(figsize=(6, 6))\n",
    "sns.set()\n",
    "plt.bar(range(len(occurences)), [item[1] for item in occurences], width = 0.9, color = 'white', edgecolor = 'blue', log = False)\n",
    "plt.savefig(\"test.jpg\", dpi = 90)"
   ]
  },
  {
   "cell_type": "code",
   "execution_count": 25,
   "metadata": {},
   "outputs": [
    {
     "name": "stdout",
     "output_type": "stream",
     "text": [
      "[2019.02.28-10:28:54] Number of unique tags that made 90% of the occurences 37\n",
      "[2019.02.28-10:28:54] ['PA', 'OQ', 'PF', 'PA FD', 'FD', 'GG', 'Q', 'IR PA', 'FD NF', 'FD Q', 'IR', 'RQ', 'PA IR', 'NF', 'PF FD', 'FQ FD', 'CQ FD', 'FQ', 'PA PF', 'FD RQ', 'CQ IR', 'FQ RQ', 'FD PF', 'CQ PA', 'FQ IR', 'FQ CQ', 'IR FD', 'JK', 'CQ IR PA', 'RQ Q', 'IR Q', 'NF Q', 'FQ FD NF', 'CQ', 'FQ PA', 'FQ PF', 'FQ NF']\n"
     ]
    }
   ],
   "source": [
    "total_num_occurences = sum([item[1] for item in occurences])\n",
    "for first_90p_idx in range(len(occurences)):\n",
    "    if sum([item[1] for item in occurences[:first_90p_idx]]) / total_num_occurences > 0.9:\n",
    "        break\n",
    "logger.log(\"Number of unique tags that made 90% of the occurences {}\".format(first_90p_idx))\n",
    "logger.log(\"{}\".format([item[0] for item in occurences[:first_90p_idx]]))"
   ]
  }
 ],
 "metadata": {
  "kernelspec": {
   "display_name": "Python 3",
   "language": "python",
   "name": "python3"
  },
  "language_info": {
   "codemirror_mode": {
    "name": "ipython",
    "version": 3
   },
   "file_extension": ".py",
   "mimetype": "text/x-python",
   "name": "python",
   "nbconvert_exporter": "python",
   "pygments_lexer": "ipython3",
   "version": "3.7.0"
  }
 },
 "nbformat": 4,
 "nbformat_minor": 2
}
